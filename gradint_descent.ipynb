{
 "cells": [
  {
   "cell_type": "code",
   "execution_count": 1,
   "id": "2a81fc2f",
   "metadata": {},
   "outputs": [],
   "source": [
    "from sklearn.datasets import make_regression\n",
    "import numpy as np\n",
    "   "
   ]
  },
  {
   "cell_type": "code",
   "execution_count": 2,
   "id": "7a98daa4",
   "metadata": {},
   "outputs": [],
   "source": [
    "X,y=make_regression(n_samples=4, n_features=1, n_informative=1, n_targets=1, noise=80,random_state=13)"
   ]
  },
  {
   "cell_type": "code",
   "execution_count": 3,
   "id": "990531fb",
   "metadata": {},
   "outputs": [],
   "source": [
    "import matplotlib.pyplot as plt"
   ]
  },
  {
   "cell_type": "code",
   "execution_count": 4,
   "id": "a2633a32",
   "metadata": {},
   "outputs": [
    {
     "data": {
      "image/png": "[encoded data removed]",
      "text/plain": [
       "<Figure size 432x288 with 1 Axes>"
      ]
     },
     "metadata": {
      "needs_background": "light"
     },
     "output_type": "display_data"
    }
   ],
   "source": [
    "plt.title('make liner regression')\n",
    "plt.scatter(X,y)\n",
    "plt.xlabel('x')\n",
    "plt.ylabel('y')\n",
    "plt.show()"
   ]
  },
  {
   "cell_type": "code",
   "execution_count": 5,
   "id": "05683638",
   "metadata": {},
   "outputs": [],
   "source": [
    "from sklearn.linear_model import LinearRegression"
   ]
  },
  {
   "cell_type": "code",
   "execution_count": 6,
   "id": "ce0480ff",
   "metadata": {},
   "outputs": [],
   "source": [
    "reg=LinearRegression()"
   ]
  },
  {
   "cell_type": "code",
   "execution_count": 7,
   "id": "60d9c0a7",
   "metadata": {},
   "outputs": [
    {
     "data": {
      "text/plain": [
       "LinearRegression()"
      ]
     },
     "execution_count": 7,
     "metadata": {},
     "output_type": "execute_result"
    }
   ],
   "source": [
    "reg.fit(X,y)"
   ]
  },
  {
   "cell_type": "code",
   "execution_count": 8,
   "id": "64c003e9",
   "metadata": {},
   "outputs": [
    {
     "data": {
      "text/plain": [
       "array([78.35063668])"
      ]
     },
     "execution_count": 8,
     "metadata": {},
     "output_type": "execute_result"
    }
   ],
   "source": [
    "reg.coef_"
   ]
  },
  {
   "cell_type": "code",
   "execution_count": 9,
   "id": "0f9d6a11",
   "metadata": {},
   "outputs": [
    {
     "data": {
      "text/plain": [
       "26.15963284313262"
      ]
     },
     "execution_count": 9,
     "metadata": {},
     "output_type": "execute_result"
    }
   ],
   "source": [
    "reg.intercept_"
   ]
  },
  {
   "cell_type": "code",
   "execution_count": 11,
   "id": "1bbc46e6",
   "metadata": {},
   "outputs": [],
   "source": [
    "import matplotlib.pyplot as plt"
   ]
  },
  {
   "cell_type": "code",
   "execution_count": 12,
   "id": "290e5109",
   "metadata": {},
   "outputs": [
    {
     "data": {
      "text/plain": [
       "[<matplotlib.lines.Line2D at 0x1e7ee64d160>]"
      ]
     },
     "execution_count": 12,
     "metadata": {},
     "output_type": "execute_result"
    },
    {
     "data": {
      "image/png": "[encoded data removed]",
      "text/plain": [
       "<Figure size 432x288 with 1 Axes>"
      ]
     },
     "metadata": {
      "needs_background": "light"
     },
     "output_type": "display_data"
    }
   ],
   "source": [
    "plt.scatter(X,y)\n",
    "plt.plot(X,reg.predict(X),color='red')"
   ]
  },
  {
   "cell_type": "code",
   "execution_count": 13,
   "id": "b97cbeb9",
   "metadata": {},
   "outputs": [],
   "source": [
    "#  Lets apply Gradient Descent assuming slope is constant m = 78.35\n",
    "# # and let's assume the starting value for intercept b = 0\n",
    "# y_pred = ((78.35 * X) + 100).reshape(4)"
   ]
  },
  {
   "cell_type": "markdown",
   "id": "902db2c7",
   "metadata": {},
   "source": [
    "Lets apply Gradinet descent assuming slope is constant m=78.35\n",
    "\n",
    "and let's assume the staring value for intecept b=0\n",
    "\n"
   ]
  },
  {
   "cell_type": "code",
   "execution_count": 21,
   "id": "d94bc0c8",
   "metadata": {},
   "outputs": [],
   "source": [
    "import numpy as np\n",
    "b=500"
   ]
  },
  {
   "cell_type": "code",
   "execution_count": 22,
   "id": "52113528",
   "metadata": {},
   "outputs": [],
   "source": [
    "y_pred=((78.35*X)+b).reshape(4)"
   ]
  },
  {
   "cell_type": "code",
   "execution_count": 23,
   "id": "5c8302a7",
   "metadata": {},
   "outputs": [
    {
     "data": {
      "image/png": "[encoded data removed]",
      "text/plain": [
       "<Figure size 432x288 with 1 Axes>"
      ]
     },
     "metadata": {
      "needs_background": "light"
     },
     "output_type": "display_data"
    }
   ],
   "source": [
    "plt.scatter(X,y)\n",
    "plt.plot(X,reg.predict(X),color='red',label='Model')\n",
    "plt.plot(X,y_pred,color='blue',label='b=0')\n",
    "plt.legend()\n",
    "plt.show()"
   ]
  },
  {
   "cell_type": "markdown",
   "id": "4723a899",
   "metadata": {},
   "source": [
    "# calculating loss function"
   ]
  },
  {
   "cell_type": "code",
   "execution_count": 28,
   "id": "72aafffa",
   "metadata": {},
   "outputs": [],
   "source": [
    "m=78.35\n",
    "b=100"
   ]
  },
  {
   "cell_type": "code",
   "execution_count": 31,
   "id": "d084af92",
   "metadata": {},
   "outputs": [],
   "source": [
    "loss_slope=-2*np.sum(y-m*X.ravel()-b)"
   ]
  },
  {
   "cell_type": "code",
   "execution_count": 32,
   "id": "ade30eb6",
   "metadata": {},
   "outputs": [
    {
     "data": {
      "text/plain": [
       "590.7223659179078"
      ]
     },
     "execution_count": 32,
     "metadata": {},
     "output_type": "execute_result"
    }
   ],
   "source": [
    "loss_slope"
   ]
  },
  {
   "cell_type": "markdown",
   "id": "6e62dda4",
   "metadata": {},
   "source": [
    "<!-- # Lets take learning rate = 0.1\n",
    "lr = 0.1\n",
    "\n",
    "step_size = loss_slope*lr\n",
    "step_size -->"
   ]
  },
  {
   "cell_type": "markdown",
   "id": "4ee4e86a",
   "metadata": {},
   "source": [
    "let's learning rate 0.1"
   ]
  },
  {
   "cell_type": "code",
   "execution_count": 33,
   "id": "323c6ed6",
   "metadata": {},
   "outputs": [],
   "source": [
    "# lr = 0.1\n",
    "\n",
    "# step_size = loss_slope*lr\n",
    "# step_size\n",
    "\n",
    "# Out[81]:\n",
    "\n",
    "# 59.072236591790784\n",
    "\n"
   ]
  },
  {
   "cell_type": "code",
   "execution_count": 34,
   "id": "7100c38b",
   "metadata": {},
   "outputs": [],
   "source": [
    "lr=0.1\n",
    "step_size=loss_slope*lr\n"
   ]
  },
  {
   "cell_type": "code",
   "execution_count": 35,
   "id": "6d0990a7",
   "metadata": {},
   "outputs": [
    {
     "data": {
      "text/plain": [
       "59.072236591790784"
      ]
     },
     "execution_count": 35,
     "metadata": {},
     "output_type": "execute_result"
    }
   ],
   "source": [
    "step_size"
   ]
  },
  {
   "cell_type": "markdown",
   "id": "4d6b1d76",
   "metadata": {},
   "source": [
    "# calculate a new intercept"
   ]
  },
  {
   "cell_type": "code",
   "execution_count": 36,
   "id": "559593c7",
   "metadata": {},
   "outputs": [],
   "source": [
    "b=b-step_size"
   ]
  },
  {
   "cell_type": "code",
   "execution_count": 37,
   "id": "87ff50fd",
   "metadata": {},
   "outputs": [
    {
     "data": {
      "text/plain": [
       "40.927763408209216"
      ]
     },
     "execution_count": 37,
     "metadata": {},
     "output_type": "execute_result"
    }
   ],
   "source": [
    "b"
   ]
  },
  {
   "cell_type": "code",
   "execution_count": 39,
   "id": "ff8e9926",
   "metadata": {},
   "outputs": [],
   "source": [
    "y_pred1=((78.35*X)+b).reshape(4)\n"
   ]
  },
  {
   "cell_type": "code",
   "execution_count": 40,
   "id": "5844ac57",
   "metadata": {},
   "outputs": [
    {
     "data": {
      "image/png": "[encoded data removed]",
      "text/plain": [
       "<Figure size 432x288 with 1 Axes>"
      ]
     },
     "metadata": {
      "needs_background": "light"
     },
     "output_type": "display_data"
    }
   ],
   "source": [
    "plt.scatter(X,y)\n",
    "plt.plot(X,reg.predict(X),color='green',label='model_1')\n",
    "plt.plot(X,y_pred,color='gray',label='model_2')\n",
    "plt.plot(X,y_pred1,color='red',label='model_3')\n",
    "plt.legend()\n",
    "plt.show()"
   ]
  },
  {
   "cell_type": "code",
   "execution_count": null,
   "id": "14c2276a",
   "metadata": {},
   "outputs": [],
   "source": []
  }
 ],
 "metadata": {
  "kernelspec": {
   "display_name": "Python 3 (ipykernel)",
   "language": "python",
   "name": "python3"
  },
  "language_info": {
   "codemirror_mode": {
    "name": "ipython",
    "version": 3
   },
   "file_extension": ".py",
   "mimetype": "text/x-python",
   "name": "python",
   "nbconvert_exporter": "python",
   "pygments_lexer": "ipython3",
   "version": "3.9.6"
  }
 },
 "nbformat": 4,
 "nbformat_minor": 5
}
